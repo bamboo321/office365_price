{
 "cells": [
  {
   "cell_type": "code",
   "execution_count": 35,
   "metadata": {},
   "outputs": [],
   "source": [
    "from urllib.parse import urlparse\n",
    "import requests\n",
    "from bs4 import BeautifulSoup\n",
    "from iso3166 import countries"
   ]
  },
  {
   "cell_type": "code",
   "execution_count": 51,
   "metadata": {},
   "outputs": [],
   "source": [
    "def fetch_store_countrycode_languagecode():\n",
    "    '''\n",
    "    ['fr-dz', 'es-ar', 'en-au',..., 'ja-jp', 'zh-hk']\n",
    "    '''\n",
    "    url = 'https://www.microsoft.com/en-us/locale'\n",
    "    html = requests.get(url).text\n",
    "    # print(html.text)\n",
    "    soup = BeautifulSoup(html, 'html.parser')\n",
    "    \n",
    "    s = soup.find_all('a', class_='c-hyperlink')\n",
    "    countrycode_languagecode = list()\n",
    "    \n",
    "    for elem in s:\n",
    "        splited = urlparse(elem.get('href'))\n",
    "        countrycode_languagecode.append(splited.path[1:-1])\n",
    "\n",
    "    return countrycode_languagecode"
   ]
  },
  {
   "cell_type": "code",
   "execution_count": 85,
   "metadata": {},
   "outputs": [
    {
     "name": "stdout",
     "output_type": "stream",
     "text": [
      "6\n",
      "\n",
      "            Microsoft 365 Family\n",
      "        \n",
      "\n",
      "            Microsoft 365 Personal\n",
      "        \n",
      "\n",
      "            Office Home & Student 2021\n",
      "        \n",
      "Microsoft 365 Family\n",
      "Microsoft 365 Personal\n",
      "Office Home & Student 2021\n"
     ]
    }
   ],
   "source": [
    "def fetch_product_price():\n",
    "    url = 'https://www.microsoft.com/en-us/microsoft-365/buy/compare-all-microsoft-365-products'\n",
    "    html = requests.get(url).text\n",
    "    soup = BeautifulSoup(html, 'html.parser')\n",
    "    \n",
    "    s = soup.find_all('h3', class_='h4')\n",
    "    # print(s)\n",
    "    print(len(s))\n",
    "    # print(s)\n",
    "    \n",
    "    for t in s:\n",
    "        print(t.get_text())\n",
    "    \n",
    "fetch_product_price()"
   ]
  },
  {
   "cell_type": "code",
   "execution_count": 50,
   "metadata": {},
   "outputs": [
    {
     "name": "stdout",
     "output_type": "stream",
     "text": [
      "['fr-dz', 'es-ar', 'en-au', 'nl-be', 'fr-be', 'es-bo', 'bs-ba', 'pt-br', 'en-ca', 'fr-ca', 'cs-cz', 'es-cl', 'es-co', 'es-cr', 'sr-latn-me', 'en-cy', 'da-dk', 'de-de', 'es-ec', 'et-ee', 'en-eg', 'es-sv', 'es-es', 'fr-fr', 'es-gt', 'es-hn', 'en-hk', 'hr-hr', 'en-in', 'id-id', 'en-ie', 'is-is', 'it-it', 'en-jo', 'lv-lv', 'en-lb', 'lt-lt', 'hu-hu', 'en-my', 'en-mt', 'es-mx', 'fr-ma', 'nl-nl', 'en-nz', 'es-ni', 'en-ng', 'nb-no', 'de-at', 'en-pk', 'es-pa', 'es-py', 'es-pe', 'en-ph', 'pl-pl', 'pt-pt', 'es-pr', 'es-do', 'ro-md', 'ro-ro', 'en-sa', 'de-ch', 'en-sg', 'sl-si', 'sk-sk', 'en-za', 'sr-latn-rs', 'en-lk', 'fr-ch', 'fi-fi', 'sv-se', 'fr-tn', 'tr-tr', 'en-gb', 'en-us', 'es-uy', 'es-ve', 'vi-vn', 'el-gr', 'ru-by', 'bg-bg', 'ru-kz', 'ru-ru', 'uk-ua', 'he-il', 'ar-iq', 'ar-sa', 'ar-ly', 'ar-eg', 'th-th', 'ko-kr', 'zh-cn', 'zh-tw', 'ja-jp', 'zh-hk']\n",
      "Algeria\n",
      "Argentina\n",
      "Australia\n",
      "Belgium\n",
      "Belgium\n",
      "Bolivia, Plurinational State of\n",
      "Bosnia and Herzegovina\n",
      "Brazil\n",
      "Canada\n",
      "Canada\n",
      "Czechia\n",
      "Chile\n",
      "Colombia\n",
      "Costa Rica\n",
      "Montenegro\n",
      "Cyprus\n",
      "Denmark\n",
      "Germany\n",
      "Ecuador\n",
      "Estonia\n",
      "Egypt\n",
      "El Salvador\n",
      "Spain\n",
      "France\n",
      "Guatemala\n",
      "Honduras\n",
      "Hong Kong\n",
      "Croatia\n",
      "India\n",
      "Indonesia\n",
      "Ireland\n",
      "Iceland\n",
      "Italy\n",
      "Jordan\n",
      "Latvia\n",
      "Lebanon\n",
      "Lithuania\n",
      "Hungary\n",
      "Malaysia\n",
      "Malta\n",
      "Mexico\n",
      "Morocco\n",
      "Netherlands\n",
      "New Zealand\n",
      "Nicaragua\n",
      "Nigeria\n",
      "Norway\n",
      "Austria\n",
      "Pakistan\n",
      "Panama\n",
      "Paraguay\n",
      "Peru\n",
      "Philippines\n",
      "Poland\n",
      "Portugal\n",
      "Puerto Rico\n",
      "Dominican Republic\n",
      "Moldova, Republic of\n",
      "Romania\n",
      "Saudi Arabia\n",
      "Switzerland\n",
      "Singapore\n",
      "Slovenia\n",
      "Slovakia\n",
      "South Africa\n",
      "Serbia\n",
      "Sri Lanka\n",
      "Switzerland\n",
      "Finland\n",
      "Sweden\n",
      "Tunisia\n",
      "Turkey\n",
      "United Kingdom of Great Britain and Northern Ireland\n",
      "United States of America\n",
      "Uruguay\n",
      "Venezuela, Bolivarian Republic of\n",
      "Viet Nam\n",
      "Greece\n",
      "Belarus\n",
      "Bulgaria\n",
      "Kazakhstan\n",
      "Russian Federation\n",
      "Ukraine\n",
      "Israel\n",
      "Iraq\n",
      "Saudi Arabia\n",
      "Libya\n",
      "Egypt\n",
      "Thailand\n",
      "Korea, Republic of\n",
      "China\n",
      "Taiwan, Province of China\n",
      "Japan\n",
      "Hong Kong\n"
     ]
    }
   ],
   "source": [
    "s = fetch_store_countrycode_languagecode()\n",
    "\n",
    "countrycode_languagecode = list()\n",
    "\n",
    "for e in s:\n",
    "    splited = urlparse(e.get('href'))\n",
    "    countrycode_languagecode.append(splited.path[1:-1])\n",
    "    # print(splited.path[1:-1].split('-'))\n",
    "    # print(countries.get(splited.path[1:-1].split('-')[-1]))\n",
    "    # print(e.get('href'))\n",
    "\n",
    "countrycode_languagecode.remove('en-gulf')\n",
    "countrycode_languagecode.remove('ar-gulf')\n",
    "print(countrycode_languagecode)\n",
    "\n",
    "for e in countrycode_languagecode:\n",
    "    # print(e.split('-')[-1])\n",
    "    country = e.split('-')[-1]\n",
    "    print(countries.get(country).name)\n",
    "\n",
    "\n",
    "# 'en-gulf'\n",
    "# 'ar-gulf'\n"
   ]
  },
  {
   "cell_type": "code",
   "execution_count": 39,
   "metadata": {},
   "outputs": [
    {
     "data": {
      "text/plain": [
       "'Korea, Republic of'"
      ]
     },
     "execution_count": 39,
     "metadata": {},
     "output_type": "execute_result"
    }
   ],
   "source": [
    "countries.get('kr').name"
   ]
  },
  {
   "cell_type": "code",
   "execution_count": null,
   "metadata": {},
   "outputs": [],
   "source": []
  }
 ],
 "metadata": {
  "interpreter": {
   "hash": "d4d1e4263499bec80672ea0156c357c1ee493ec2b1c70f0acce89fc37c4a6abe"
  },
  "kernelspec": {
   "display_name": "Python 3.8.8 ('base')",
   "language": "python",
   "name": "python3"
  },
  "language_info": {
   "codemirror_mode": {
    "name": "ipython",
    "version": 3
   },
   "file_extension": ".py",
   "mimetype": "text/x-python",
   "name": "python",
   "nbconvert_exporter": "python",
   "pygments_lexer": "ipython3",
   "version": "3.8.8"
  },
  "orig_nbformat": 4
 },
 "nbformat": 4,
 "nbformat_minor": 2
}
